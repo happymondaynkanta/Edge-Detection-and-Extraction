{
 "cells": [
  {
   "cell_type": "markdown",
   "metadata": {},
   "source": [
    "# Edge detection and extraction"
   ]
  },
  {
   "cell_type": "code",
   "execution_count": 4,
   "metadata": {},
   "outputs": [],
   "source": [
    "import cv2\n",
    "import os\n",
    "import glob"
   ]
  },
  {
   "cell_type": "code",
   "execution_count": 5,
   "metadata": {},
   "outputs": [],
   "source": [
    "img_path=r'E:\\2023-YouTube\\Lectures\\Class 2023\\data\\car'\n",
    "des_path = r'E:\\2023-YouTube\\Lectures\\Class 2023\\new'"
   ]
  },
  {
   "cell_type": "code",
   "execution_count": 8,
   "metadata": {},
   "outputs": [],
   "source": [
    "i=1\n",
    "for img in glob.glob(img_path+'/*.*'):\n",
    "    try:\n",
    "        image = cv2.imread(img)\n",
    "        gray = cv2.cvtColor(image, cv2.COLOR_BGR2GRAY)\n",
    "        denoised = cv2.bilateralFilter(gray, 11, 17, 17)\n",
    "        edge_img= cv2.Canny(denoised, 170, 200)\n",
    "        os.chdir(des_path)\n",
    "        filename = 'new_edge_denoise_'+str(i)+'.png'\n",
    "        cv2.imwrite(filename,edge_img)\n",
    "        i+=1\n",
    "    except:\n",
    "        print('Operation not executed')"
   ]
  },
  {
   "cell_type": "code",
   "execution_count": null,
   "metadata": {},
   "outputs": [],
   "source": []
  }
 ],
 "metadata": {
  "kernelspec": {
   "display_name": "Python 3",
   "language": "python",
   "name": "python3"
  },
  "language_info": {
   "codemirror_mode": {
    "name": "ipython",
    "version": 3
   },
   "file_extension": ".py",
   "mimetype": "text/x-python",
   "name": "python",
   "nbconvert_exporter": "python",
   "pygments_lexer": "ipython3",
   "version": "3.7.4"
  }
 },
 "nbformat": 4,
 "nbformat_minor": 4
}
